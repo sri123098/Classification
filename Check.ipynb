{
 "cells": [
  {
   "cell_type": "code",
   "execution_count": 28,
   "metadata": {
    "_cell_guid": "b1076dfc-b9ad-4769-8c92-a6c4dae69d19",
    "_uuid": "8f2839f25d086af736a60e9eeb907d3b93b6e0e5",
    "scrolled": true
   },
   "outputs": [
    {
     "name": "stdout",
     "output_type": "stream",
     "text": [
      "['freshbanana', '.DS_Store', 'rottenbanana', 'freshoranges', 'freshapples', 'rottenoranges', 'rottenapples']\n"
     ]
    }
   ],
   "source": [
    "import numpy as np \n",
    "import pandas as pd \n",
    "import matplotlib.pyplot as plt\n",
    "%matplotlib inline\n",
    "import tensorflow as tf\n",
    "import keras\n",
    "import glob\n",
    "import cv2\n",
    "import os\n",
    "print(os.listdir(\"/Users/sriramreddy/Downloads/523/ex1/train/\"))"
   ]
  },
  {
   "cell_type": "markdown",
   "metadata": {
    "_cell_guid": "a98294ed-c06d-492f-99dd-7c3085649fd7",
    "_uuid": "82540a2a002b69864481959412ad30f5cd7cc3dd"
   },
   "source": [
    "I've borrowed the code to grab the data from https://www.kaggle.com/gaborvecsei/fruit-juice-mix-of-pca-random-forest-svm to speed things up -- I'm focusing just on the neural network aspects of the project. Thank you user gaborvecsei!\n",
    "\n",
    "I have borrowed the code to augment the data from https://medium.com/ymedialabs-innovation/data-augmentation-techniques-in-cnn-using-tensorflow-371ae43d5be9\n",
    " from the github link provided in that website. \n",
    " (tensor flow inbuilt resize image)"
   ]
  },
  {
   "cell_type": "markdown",
   "metadata": {},
   "source": [
    "## Data Resizing and Augmentation technique\n",
    "## Training Set"
   ]
  },
  {
   "cell_type": "code",
   "execution_count": 29,
   "metadata": {
    "_cell_guid": "79c7e3d0-c299-4dcb-8224-4455121ee9b0",
    "_uuid": "d629ff2d2480ee46fbb7e2d37f6b5fab8052498a"
   },
   "outputs": [
    {
     "name": "stdout",
     "output_type": "stream",
     "text": [
      "<class 'list'>\n",
      "type and shape of fruit_image <class 'numpy.ndarray'> (1213, 110, 110, 3)\n"
     ]
    }
   ],
   "source": [
    "fruit_images = []\n",
    "labels = [] \n",
    "for fruit_dir_path in glob.glob(\"/Users/sriramreddy/Downloads/523/ex1/train/*\"):\n",
    "    fruit_label = fruit_dir_path.split(\"/\")[-1]\n",
    "    for image_path in glob.glob(os.path.join(fruit_dir_path, \"*.png\")):\n",
    "        image = cv2.imread(image_path, cv2.IMREAD_COLOR)\n",
    "        image = cv2.resize(image, (110, 110))\n",
    "        image = cv2.cvtColor(image, cv2.COLOR_RGB2BGR) \n",
    "        #why do we need to convert the RGB2BGR\n",
    "        #I don't think it is going to affect training\n",
    "        #BGR was a choice made for historical reasons and now we have to live with it.\n",
    "        #In other words, BGR is the horse’s ass in OpenCV.\n",
    "        fruit_images.append(image)\n",
    "        labels.append(fruit_label)\n",
    "print(type(fruit_images))\n",
    "fruit_images = np.array(fruit_images)\n",
    "print(\"type and shape of fruit_image\", type(fruit_images),np.shape(fruit_images))\n",
    "labels = np.array(labels)"
   ]
  },
  {
   "cell_type": "code",
   "execution_count": 30,
   "metadata": {
    "_cell_guid": "ca43a0ff-7227-4eb5-bf5b-033537277c5b",
    "_uuid": "2b70a219a7d4f8bd8cb78ea6bed72fd792ea632e",
    "collapsed": true
   },
   "outputs": [],
   "source": [
    "label_to_id_dict = {v:i for i,v in enumerate(np.unique(labels))}\n",
    "id_to_label_dict = {v: k for k, v in label_to_id_dict.items()}"
   ]
  },
  {
   "cell_type": "code",
   "execution_count": 31,
   "metadata": {
    "_cell_guid": "f1eb39fe-0ac6-4fa6-925a-ef26de6c10b0",
    "_uuid": "3fc44e1713652d107cdaf2279356f1e25d3bce23"
   },
   "outputs": [
    {
     "name": "stdout",
     "output_type": "stream",
     "text": [
      "{'freshapples': 0, 'freshbanana': 1, 'freshoranges': 2, 'rottenapples': 3, 'rottenbanana': 4, 'rottenoranges': 5}\n"
     ]
    },
    {
     "data": {
      "text/plain": [
       "{0: 'freshapples',\n",
       " 1: 'freshbanana',\n",
       " 2: 'freshoranges',\n",
       " 3: 'rottenapples',\n",
       " 4: 'rottenbanana',\n",
       " 5: 'rottenoranges'}"
      ]
     },
     "execution_count": 31,
     "metadata": {},
     "output_type": "execute_result"
    }
   ],
   "source": [
    "print(label_to_id_dict)\n",
    "id_to_label_dict"
   ]
  },
  {
   "cell_type": "code",
   "execution_count": 32,
   "metadata": {
    "_cell_guid": "f8a109a1-44a4-4751-b83f-9c0d7b431391",
    "_uuid": "8cd3260d55a6b91a280468255894858efb140d56"
   },
   "outputs": [
    {
     "data": {
      "text/plain": [
       "{'freshapples': 0,\n",
       " 'freshbanana': 1,\n",
       " 'freshoranges': 2,\n",
       " 'rottenapples': 3,\n",
       " 'rottenbanana': 4,\n",
       " 'rottenoranges': 5}"
      ]
     },
     "execution_count": 32,
     "metadata": {},
     "output_type": "execute_result"
    }
   ],
   "source": [
    "label_ids = np.array([label_to_id_dict[x] for x in labels])\n",
    "label_to_id_dict"
   ]
  },
  {
   "cell_type": "code",
   "execution_count": 33,
   "metadata": {
    "_cell_guid": "54fd1b9c-4806-4256-8255-90f787346d60",
    "_uuid": "29e0a247e71117c9f901d04706a092da95f3bbca"
   },
   "outputs": [
    {
     "data": {
      "text/plain": [
       "((1213, 110, 110, 3), (1213,), (1213,))"
      ]
     },
     "execution_count": 33,
     "metadata": {},
     "output_type": "execute_result"
    }
   ],
   "source": [
    "fruit_images.shape, label_ids.shape, labels.shape"
   ]
  },
  {
   "cell_type": "markdown",
   "metadata": {
    "_cell_guid": "c231ec3b-1304-4233-b4d3-62a2a20cc67f",
    "_uuid": "60e6c567bb606dbdc9c4d729073b5bf08957d96f"
   },
   "source": [
    "So, fruit_images contains our image files, label_ids has the numeric translation of our labels, and labels contains the name of the fruits themselves.\n",
    "\n",
    "## Test Set:\n",
    "\n",
    "The data provided calls this \"validation\", but we'll use it as our test set."
   ]
  },
  {
   "cell_type": "code",
   "execution_count": 34,
   "metadata": {
    "_cell_guid": "92107412-2e52-4e08-a8bd-4541398f0d1d",
    "_uuid": "2f88b352eab3ace84ab89f3a35c0434dc287a175",
    "collapsed": true
   },
   "outputs": [],
   "source": [
    "validation_fruit_images = []\n",
    "validation_labels = [] \n",
    "for fruit_dir_path in glob.glob(\"/Users/sriramreddy/Downloads/523/ex1/test/*\"):\n",
    "    fruit_label = fruit_dir_path.split(\"/\")[-1]\n",
    "    for image_path in glob.glob(os.path.join(fruit_dir_path, \"*.png\")):\n",
    "        image = cv2.imread(image_path, cv2.IMREAD_COLOR)\n",
    "        image = cv2.resize(image, (110, 110))\n",
    "        image = cv2.cvtColor(image, cv2.COLOR_RGB2BGR)\n",
    "        validation_fruit_images.append(image)\n",
    "        validation_labels.append(fruit_label)\n",
    "validation_fruit_images = np.array(validation_fruit_images)\n",
    "validation_labels = np.array(validation_labels)"
   ]
  },
  {
   "cell_type": "code",
   "execution_count": 35,
   "metadata": {
    "_cell_guid": "fef24e6d-d3c6-485e-8eea-1acf2a18d0cf",
    "_uuid": "db7432784afab0594f2b02f4bf17f95ae4998506",
    "collapsed": true
   },
   "outputs": [],
   "source": [
    "validation_label_ids = np.array([label_to_id_dict[x] for x in validation_labels])"
   ]
  },
  {
   "cell_type": "code",
   "execution_count": 36,
   "metadata": {
    "_cell_guid": "b1c98a59-4ea6-4a85-a3d0-c987b36fcd90",
    "_uuid": "5b5a55b8b58e21d4f30fe00a0d2c034eecf5487a"
   },
   "outputs": [
    {
     "data": {
      "text/plain": [
       "((298, 110, 110, 3), (298,))"
      ]
     },
     "execution_count": 36,
     "metadata": {},
     "output_type": "execute_result"
    }
   ],
   "source": [
    "validation_fruit_images.shape, validation_label_ids.shape"
   ]
  },
  {
   "cell_type": "markdown",
   "metadata": {
    "_uuid": "cf08e1f11d2be782bdbd5ba45d1aa22d3446fe97"
   },
   "source": [
    "## Splitting the Data"
   ]
  },
  {
   "cell_type": "code",
   "execution_count": 37,
   "metadata": {
    "_cell_guid": "9b207d2e-4e42-4bcf-a2eb-9aeee8261b40",
    "_uuid": "9dc6de412354176bf85eefdc595cf31b10ef2ac7"
   },
   "outputs": [
    {
     "name": "stdout",
     "output_type": "stream",
     "text": [
      "Original Sizes: (1213, 110, 110, 3) (298, 110, 110, 3) (1213, 6) (298, 6)\n",
      "Flattened: (1213, 36300) (298, 36300)\n"
     ]
    }
   ],
   "source": [
    "X_train, X_test = fruit_images, validation_fruit_images\n",
    "Y_train, Y_test = label_ids, validation_label_ids\n",
    "\n",
    "#Normalize color values to between 0 and 1\n",
    "X_train = X_train/255\n",
    "X_test = X_test/255\n",
    "\n",
    "#Make a flattened version for some of our models\n",
    "X_flat_train = X_train.reshape(X_train.shape[0], 110*110*3)\n",
    "X_flat_test = X_test.reshape(X_test.shape[0], 110*110*3)\n",
    "\n",
    "#One Hot Encode the Output what is this 6 \n",
    "Y_train = keras.utils.to_categorical(Y_train, 6)\n",
    "Y_test = keras.utils.to_categorical(Y_test, 6)\n",
    "\n",
    "print('Original Sizes:', X_train.shape, X_test.shape, Y_train.shape, Y_test.shape)\n",
    "print('Flattened:', X_flat_train.shape, X_flat_test.shape)"
   ]
  },
  {
   "cell_type": "code",
   "execution_count": 38,
   "metadata": {
    "_cell_guid": "93678068-75d2-401a-95eb-843715cef14e",
    "_uuid": "3fcc6e9c09ebfc91c94eda9422aaef83ea78325d"
   },
   "outputs": [
    {
     "name": "stdout",
     "output_type": "stream",
     "text": [
      "(110, 110, 3)\n",
      "[1.         1.         1.         ... 0.95686275 0.95686275 0.95686275]\n"
     ]
    },
    {
     "data": {
      "image/png": "[encoded data removed]",
      "text/plain": [
       "<matplotlib.figure.Figure at 0x18259b2240>"
      ]
     },
     "metadata": {},
     "output_type": "display_data"
    }
   ],
   "source": [
    "print(X_train[0].shape)\n",
    "plt.imshow(X_train[0])\n",
    "print(X_flat_train[0])\n",
    "plt.show()"
   ]
  },
  {
   "cell_type": "markdown",
   "metadata": {
    "_cell_guid": "ce863668-fc41-49ed-8187-b052f17086cd",
    "_uuid": "546694f6184a5a06393c65c46ed80489e1196500"
   },
   "source": [
    "Cool! We've got all our images stored as 110* 110 pixel images with 3 channels for RGB, as well as a flattened version for certain models. Let's start with a simple sequential model.\n",
    "\n",
    "## Setting Up Our Neural Network"
   ]
  },
  {
   "cell_type": "code",
   "execution_count": 39,
   "metadata": {
    "_cell_guid": "644f5431-9357-44c6-a4b0-8fda7517a824",
    "_uuid": "0249b5c8f24e2ebd4c4c5662e136f7793b3e5c31",
    "collapsed": true
   },
   "outputs": [],
   "source": [
    "from keras.models import Sequential\n",
    "from keras.layers import Dense, Dropout, Flatten, Conv2D, MaxPooling2D\n",
    "from keras.layers import LSTM, Input, TimeDistributed\n",
    "#LSTM is not used\n",
    "from keras.models import Model\n",
    "from keras.optimizers import RMSprop, SGD\n",
    "# Import the backend\n",
    "from keras import backend as K"
   ]
  },
  {
   "cell_type": "markdown",
   "metadata": {
    "_uuid": "b5a331c040b2930043deb8e85cb4c93136b08b36"
   },
   "source": [
    "## Run a Quick Model "
   ]
  },
  {
   "cell_type": "markdown",
   "metadata": {
    "_cell_guid": "be6241e7-6e4c-405f-a917-b1221214d081",
    "_uuid": "74e90472fc569fc85d0d22e6513610e5082a4664",
    "collapsed": true
   },
   "source": [
    "Great! That's a good starting point. We're achieving ~???% accuracy on the test set using a neural network with two dense layers (128 nodes and 64 nodes) and dropout (to reduce overfitting). Let's see how much better we can do, first using a deeper network, and then using CNN."
   ]
  },
  {
   "cell_type": "markdown",
   "metadata": {
    "_uuid": "240a174248678354d2482be013813128824f0677"
   },
   "source": [
    "Excellent! Deepening the network (now five hidden layers: 256, 128, 128, 128, 128) brought the test set accuracy from ??% to ??%! On to CNN -- we expect this to do the best but take significantly longer. The model above took about two minutes to train."
   ]
  },
  {
   "cell_type": "code",
   "execution_count": 40,
   "metadata": {
    "_uuid": "1d48c486afe1a719fc7138638cc076b225b168d2"
   },
   "outputs": [
    {
     "name": "stdout",
     "output_type": "stream",
     "text": [
      "Train on 1213 samples, validate on 298 samples\n",
      "Epoch 1/1\n",
      "1213/1213 [==============================] - 59s 49ms/step - loss: 3.0641 - acc: 0.2341 - val_loss: 1.6738 - val_acc: 0.3154\n",
      "Test loss: 1.6738028806327974\n",
      "Test accuracy: 0.31543624161073824\n"
     ]
    }
   ],
   "source": [
    "model_cnn = Sequential()\n",
    "# First convolutional layer, note the specification of shape\n",
    "#We are not passing flattened image of 110*110*3.\n",
    "model_cnn.add(Conv2D(32, kernel_size=(3, 3),\n",
    "                 activation='relu',\n",
    "                 input_shape=(110, 110, 3)))\n",
    "model_cnn.add(Conv2D(64, (3, 3), activation='relu'))\n",
    "model_cnn.add(MaxPooling2D(pool_size=(2, 2)))\n",
    "model_cnn.add(Dropout(0.25))\n",
    "model_cnn.add(Flatten())\n",
    "model_cnn.add(Dense(128, activation='relu'))\n",
    "model_cnn.add(Dropout(0.5))\n",
    "model_cnn.add(Dense(6, activation='softmax'))\n",
    "#6 is the output class\n",
    "#model.add(Dense(32, input_shape=(16,)))\n",
    "# now the model will take as input arrays of shape (*, 16)\n",
    "# and output arrays of shape (*, 32)\n",
    "# after the first layer, you don't need to specify\n",
    "# the size of the input anymore.  Dense should be fully connected layer.\n",
    "#Dropout: A Simple Way to Prevent Neural Networks from Overfitting --- dropping out units (both hidden and visible) in a neural network\n",
    "\n",
    "model_cnn.compile(loss=keras.losses.categorical_crossentropy,\n",
    "              optimizer=keras.optimizers.Adadelta(),\n",
    "              metrics=['accuracy'])\n",
    "\n",
    "model_cnn.fit(X_train, Y_train,\n",
    "          batch_size=128,\n",
    "          epochs=1,\n",
    "          verbose=1,\n",
    "          validation_data=(X_test, Y_test))\n",
    "\n",
    "score = model_cnn.evaluate(X_test, Y_test, verbose=0)\n",
    "print('Test loss:', score[0])\n",
    "print('Test accuracy:', score[1])"
   ]
  },
  {
   "cell_type": "markdown",
   "metadata": {
    "_uuid": "a5bcf3066e91ce0343daa96c64b37b46d2dcc9cc"
   },
   "source": [
    "Normally I wouldn't leave this trial run in the notebook, but our CNN got up to 21% accuracy on a single epoch! Let's run it for a few more and see how well we can do."
   ]
  },
  {
   "cell_type": "code",
   "execution_count": 41,
   "metadata": {
    "_uuid": "c7dbaad88b5933c9c337fbd20b6374ed231ad006",
    "scrolled": true
   },
   "outputs": [
    {
     "name": "stdout",
     "output_type": "stream",
     "text": [
      "Train on 1213 samples, validate on 298 samples\n",
      "Epoch 1/25\n",
      "1213/1213 [==============================] - 55s 45ms/step - loss: 1.7880 - acc: 0.2778 - val_loss: 1.6695 - val_acc: 0.2315\n",
      "Epoch 2/25\n",
      "1213/1213 [==============================] - 54s 44ms/step - loss: 1.6280 - acc: 0.3364 - val_loss: 1.5337 - val_acc: 0.3490\n",
      "Epoch 3/25\n",
      "1213/1213 [==============================] - 56s 46ms/step - loss: 1.4789 - acc: 0.4023 - val_loss: 1.3092 - val_acc: 0.4329\n",
      "Epoch 4/25\n",
      "1213/1213 [==============================] - 47s 39ms/step - loss: 1.1414 - acc: 0.5713 - val_loss: 0.8977 - val_acc: 0.6879\n",
      "Epoch 5/25\n",
      "1213/1213 [==============================] - 47s 39ms/step - loss: 1.4744 - acc: 0.4295 - val_loss: 1.2369 - val_acc: 0.5000\n",
      "Epoch 6/25\n",
      "1213/1213 [==============================] - 48s 40ms/step - loss: 1.2722 - acc: 0.5078 - val_loss: 1.1068 - val_acc: 0.6342\n",
      "Epoch 7/25\n",
      "1213/1213 [==============================] - 48s 39ms/step - loss: 1.0229 - acc: 0.6035 - val_loss: 1.1494 - val_acc: 0.5705\n",
      "Epoch 8/25\n",
      "1213/1213 [==============================] - 47s 39ms/step - loss: 0.8608 - acc: 0.6810 - val_loss: 0.8864 - val_acc: 0.7047\n",
      "Epoch 9/25\n",
      "1213/1213 [==============================] - 48s 40ms/step - loss: 0.8289 - acc: 0.7024 - val_loss: 0.8565 - val_acc: 0.6644\n",
      "Epoch 10/25\n",
      "1213/1213 [==============================] - 47s 39ms/step - loss: 0.7188 - acc: 0.7312 - val_loss: 0.6165 - val_acc: 0.7987\n",
      "Epoch 11/25\n",
      "1213/1213 [==============================] - 48s 40ms/step - loss: 0.6954 - acc: 0.7552 - val_loss: 0.7693 - val_acc: 0.7114\n",
      "Epoch 12/25\n",
      "1213/1213 [==============================] - 47s 39ms/step - loss: 0.5886 - acc: 0.8112 - val_loss: 0.6459 - val_acc: 0.7819\n",
      "Epoch 13/25\n",
      "1213/1213 [==============================] - 48s 40ms/step - loss: 0.5670 - acc: 0.8013 - val_loss: 0.6375 - val_acc: 0.7550\n",
      "Epoch 14/25\n",
      "1213/1213 [==============================] - 48s 40ms/step - loss: 0.5305 - acc: 0.7980 - val_loss: 0.4845 - val_acc: 0.8356\n",
      "Epoch 15/25\n",
      "1213/1213 [==============================] - 48s 40ms/step - loss: 0.4521 - acc: 0.8508 - val_loss: 0.5099 - val_acc: 0.8087\n",
      "Epoch 16/25\n",
      "1213/1213 [==============================] - 48s 39ms/step - loss: 0.5218 - acc: 0.8013 - val_loss: 0.5068 - val_acc: 0.7987\n",
      "Epoch 17/25\n",
      "1213/1213 [==============================] - 47s 39ms/step - loss: 0.3971 - acc: 0.8697 - val_loss: 0.4742 - val_acc: 0.8322\n",
      "Epoch 18/25\n",
      "1213/1213 [==============================] - 48s 39ms/step - loss: 0.4181 - acc: 0.8566 - val_loss: 0.4894 - val_acc: 0.7987\n",
      "Epoch 19/25\n",
      "1213/1213 [==============================] - 1664s 1s/step - loss: 0.4105 - acc: 0.8557 - val_loss: 0.8841 - val_acc: 0.6007\n",
      "Epoch 20/25\n",
      "1213/1213 [==============================] - 1632s 1s/step - loss: 0.4562 - acc: 0.8335 - val_loss: 0.4531 - val_acc: 0.8490\n",
      "Epoch 21/25\n",
      "1213/1213 [==============================] - 3212s 3s/step - loss: 0.3044 - acc: 0.9011 - val_loss: 0.5779 - val_acc: 0.7953\n",
      "Epoch 22/25\n",
      "1213/1213 [==============================] - 665s 548ms/step - loss: 0.3604 - acc: 0.8862 - val_loss: 0.3496 - val_acc: 0.8792\n",
      "Epoch 23/25\n",
      "1213/1213 [==============================] - 50s 41ms/step - loss: 0.2603 - acc: 0.9093 - val_loss: 0.5033 - val_acc: 0.8356\n",
      "Epoch 24/25\n",
      "1213/1213 [==============================] - 51s 42ms/step - loss: 0.3081 - acc: 0.8854 - val_loss: 0.5167 - val_acc: 0.8356\n",
      "Epoch 25/25\n",
      "1213/1213 [==============================] - 48s 40ms/step - loss: 0.2432 - acc: 0.9192 - val_loss: 0.4533 - val_acc: 0.8221\n",
      "Test loss: 0.4533028124562846\n",
      "Test accuracy: 0.8221476510067114\n"
     ]
    }
   ],
   "source": [
    "model_cnn.fit(X_train, Y_train,\n",
    "          batch_size=128,\n",
    "          epochs=25,\n",
    "          verbose=1,\n",
    "          validation_data=(X_test, Y_test))\n",
    "# validation_data: tuple (x_val, y_val) or tuple  (x_val, y_val, val_sample_weights) on which to evaluate the loss and any model metrics at the end of each epoch. \n",
    "# The model will not be trained on this data.  validation_data will override  validation_split.\n",
    "#Model is properly getting trained \n",
    "score = model_cnn.evaluate(X_test, Y_test, verbose=0)\n",
    "#print(model_cnn.metrics_names)\n",
    "#score[0] is the loss and score[1] is the accuracy\n",
    "print('Test loss:', score[0])\n",
    "print('Test accuracy:', score[1])"
   ]
  },
  {
   "cell_type": "markdown",
   "metadata": {
    "_uuid": "eca3fa4d1a58005fb7f774e8f4741d47f977e9d5"
   },
   "source": [
    "Our accuracy on the test set is topping out around ???%, even as the model starts to slightly overfit the training set (???% accuracy). We actually get there after 23 epochs. This is a great result -- we can identify fruits???"
   ]
  },
  {
   "cell_type": "code",
   "execution_count": 70,
   "metadata": {
    "collapsed": true
   },
   "outputs": [],
   "source": [
    "#fname=\"/Users/sriramreddy/Downloads/523/ex1/new_model_6_classes.hdf5\"\n",
    "#model_cnn.save_weights(fname,overwrite=True)\n",
    "#In future, you can use this model and later you can load this model for prediction \n",
    "#Creation of dictionary with mapping between id and labels\n",
    "# s=[3,4,5]\n",
    "# for i in enumerate(s):\n",
    "#     print(i)\n",
    "# print(\"second\")\n",
    "# for i in enumerate(s,10):\n",
    "#     print(i)\n",
    "# print(\"third\")\n",
    "# for i,k in enumerate(s):\n",
    "#     print(i,k) np.unique returns a sorted array "
   ]
  },
  {
   "cell_type": "code",
   "execution_count": 42,
   "metadata": {},
   "outputs": [
    {
     "name": "stdout",
     "output_type": "stream",
     "text": [
      "[[1.48638757e-03 9.93843436e-01 9.71652207e-06 8.41219036e-04\n",
      "  1.89065281e-03 1.92870852e-03]\n",
      " [7.40602263e-04 9.67226803e-01 6.86839703e-05 7.95869064e-03\n",
      "  2.67214631e-03 2.13331748e-02]\n",
      " [6.07467484e-07 9.99859333e-01 2.36647342e-08 2.32974458e-06\n",
      "  2.31185149e-05 1.14523078e-04]\n",
      " ...\n",
      " [8.17472860e-03 1.24188908e-03 3.27403918e-02 9.33146715e-01\n",
      "  5.05069038e-04 2.41912790e-02]\n",
      " [6.66339919e-02 1.23963505e-03 1.25293415e-02 9.09734011e-01\n",
      "  2.70171673e-04 9.59296152e-03]\n",
      " [3.62356019e-04 6.12806417e-02 7.58996393e-05 9.37570810e-01\n",
      "  3.38240323e-04 3.72024981e-04]]\n"
     ]
    }
   ],
   "source": [
    "output=model_cnn.predict(X_test, batch_size=None, verbose=0, steps=None)\n",
    "print(output)"
   ]
  },
  {
   "cell_type": "code",
   "execution_count": 66,
   "metadata": {},
   "outputs": [
    {
     "name": "stdout",
     "output_type": "stream",
     "text": [
      "freshapples 0.4146341463414634\n",
      "freshbanana 0.9761904761904762\n",
      "freshoranges 0.9166666666666666\n",
      "rottenapples 0.5373134328358209\n",
      "rottenbanana 0.14545454545454545\n",
      "rottenoranges 0.3111111111111111\n",
      "Accuracy for all items 0.5369127516778524\n"
     ]
    }
   ],
   "source": [
    "id_labels={0: 'freshapples',\n",
    " 1: 'freshbanana',\n",
    " 2: 'freshoranges',\n",
    " 3: 'rottenapples',\n",
    " 4: 'rottenbanana',\n",
    " 5: 'rottenoranges'}\n",
    "accuracy={}\n",
    "infi,infi_set=0,0\n",
    "for k,v in id_labels.items():\n",
    "    total_set,count=0,0\n",
    "    for i in glob.glob(\"/Users/sriramreddy/Downloads/523/ex1/test/\"+v+\"/*png\"):\n",
    "        test_image = image.load_img(i, target_size = (110, 110))\n",
    "        test_image = image.img_to_array(test_image)\n",
    "        test_image = np.expand_dims(test_image, axis = 0)\n",
    "        result = model_cnn.predict(test_image)\n",
    "        total_set+=1\n",
    "        infi_set+=1\n",
    "        #print(k,v,np.argmax(result[0]))\n",
    "        if k==np.argmax(result[0]): #key_with_maximum_value_in_array result[0][k] >= 0.5:\n",
    "            count+=1\n",
    "            infi+=1\n",
    "    accuracy[k]=count/total_set\n",
    "    print(v,accuracy[k])\n",
    "print(\"Accuracy for all items\", infi/infi_set)"
   ]
  },
  {
   "cell_type": "code",
   "execution_count": 50,
   "metadata": {},
   "outputs": [
    {
     "name": "stdout",
     "output_type": "stream",
     "text": [
      "dict_items([(0, 'freshapples'), (1, 'freshbanana'), (2, 'freshoranges'), (3, 'rottenapples'), (4, 'rottenbanana'), (5, 'rottenoranges')])\n",
      "[[1. 0. 0. 0. 0. 0.]]\n"
     ]
    }
   ],
   "source": [
    "# id_labels={0: 'freshapples',\n",
    "#  1: 'freshbanana',\n",
    "#  2: 'freshoranges',\n",
    "#  3: 'rottenapples',\n",
    "#  4: 'rottenbanana',\n",
    "#  5: 'rottenoranges'}\n",
    "# print(id_labels.items())\n",
    "# import numpy as np\n",
    "# from keras.preprocessing import image\n",
    "# accuracy={}\n",
    "# infi,infi_set=0,0\n",
    "# total_set,count=0,0\n",
    "# i=\"/Users/sriramreddy/Downloads/523/apple.png\"\n",
    "# test_image = image.load_img(i, target_size = (110, 110))\n",
    "# test_image = image.img_to_array(test_image)\n",
    "# test_image = np.expand_dims(test_image, axis = 0)\n",
    "# result = model_cnn.predict(test_image)\n",
    "# total_set+=1\n",
    "# infi_set+=1\n",
    "# if result[0][0] >= 0.5:\n",
    "#     count+=1\n",
    "#     infi+=1\n",
    "# print(result)"
   ]
  },
  {
   "cell_type": "code",
   "execution_count": 55,
   "metadata": {},
   "outputs": [
    {
     "name": "stdout",
     "output_type": "stream",
     "text": [
      "(1, 110, 110, 3)\n",
      "[[0. 1. 0. 0. 0. 0.]] 0\n",
      "(1, 110, 110, 3)\n",
      "[[1. 0. 0. 0. 0. 0.]] 0\n",
      "(1, 110, 110, 3)\n",
      "[[1. 0. 0. 0. 0. 0.]] 0\n",
      "(1, 110, 110, 3)\n",
      "[[0. 1. 0. 0. 0. 0.]] 0\n",
      "(1, 110, 110, 3)\n",
      "[[1. 0. 0. 0. 0. 0.]] 0\n",
      "(1, 110, 110, 3)\n",
      "[[0. 0. 1. 0. 0. 0.]] 0\n",
      "(1, 110, 110, 3)\n",
      "[[0.0000000e+00 0.0000000e+00 9.7708425e-32 1.0000000e+00 0.0000000e+00\n",
      "  0.0000000e+00]] 0\n",
      "(1, 110, 110, 3)\n",
      "[[0. 0. 1. 0. 0. 0.]] 0\n",
      "(1, 110, 110, 3)\n",
      "[[0. 1. 0. 0. 0. 0.]] 0\n",
      "(1, 110, 110, 3)\n",
      "[[0. 0. 0. 1. 0. 0.]] 0\n",
      "(1, 110, 110, 3)\n",
      "[[1.0000000e+00 0.0000000e+00 0.0000000e+00 1.6682441e-16 0.0000000e+00\n",
      "  0.0000000e+00]] 0\n",
      "(1, 110, 110, 3)\n",
      "[[0. 1. 0. 0. 0. 0.]] 0\n",
      "(1, 110, 110, 3)\n",
      "[[0. 1. 0. 0. 0. 0.]] 0\n",
      "(1, 110, 110, 3)\n",
      "[[0. 1. 0. 0. 0. 0.]] 0\n",
      "(1, 110, 110, 3)\n",
      "[[1. 0. 0. 0. 0. 0.]] 0\n",
      "(1, 110, 110, 3)\n",
      "[[0. 1. 0. 0. 0. 0.]] 0\n",
      "(1, 110, 110, 3)\n",
      "[[0. 0. 0. 1. 0. 0.]] 0\n",
      "(1, 110, 110, 3)\n",
      "[[1. 0. 0. 0. 0. 0.]] 0\n",
      "(1, 110, 110, 3)\n",
      "[[1. 0. 0. 0. 0. 0.]] 0\n",
      "(1, 110, 110, 3)\n",
      "[[0. 1. 0. 0. 0. 0.]] 0\n",
      "(1, 110, 110, 3)\n",
      "[[0. 1. 0. 0. 0. 0.]] 0\n",
      "(1, 110, 110, 3)\n",
      "[[1. 0. 0. 0. 0. 0.]] 0\n",
      "(1, 110, 110, 3)\n",
      "[[1. 0. 0. 0. 0. 0.]] 0\n",
      "(1, 110, 110, 3)\n",
      "[[1.0000000e+00 0.0000000e+00 0.0000000e+00 4.7681305e-38 0.0000000e+00\n",
      "  0.0000000e+00]] 0\n",
      "(1, 110, 110, 3)\n",
      "[[0. 1. 0. 0. 0. 0.]] 0\n",
      "(1, 110, 110, 3)\n",
      "[[1. 0. 0. 0. 0. 0.]] 0\n",
      "(1, 110, 110, 3)\n",
      "[[0. 1. 0. 0. 0. 0.]] 0\n",
      "(1, 110, 110, 3)\n",
      "[[1.000000e+00 0.000000e+00 0.000000e+00 4.060846e-35 0.000000e+00\n",
      "  0.000000e+00]] 0\n",
      "(1, 110, 110, 3)\n",
      "[[1.4655594e-29 0.0000000e+00 1.0000000e+00 0.0000000e+00 0.0000000e+00\n",
      "  1.8036561e-10]] 0\n",
      "(1, 110, 110, 3)\n",
      "[[0. 1. 0. 0. 0. 0.]] 0\n",
      "(1, 110, 110, 3)\n",
      "[[0. 0. 1. 0. 0. 0.]] 0\n",
      "(1, 110, 110, 3)\n",
      "[[9.6609435e-26 0.0000000e+00 0.0000000e+00 1.0000000e+00 0.0000000e+00\n",
      "  0.0000000e+00]] 0\n",
      "(1, 110, 110, 3)\n",
      "[[0. 0. 1. 0. 0. 0.]] 0\n",
      "(1, 110, 110, 3)\n",
      "[[1. 0. 0. 0. 0. 0.]] 0\n",
      "(1, 110, 110, 3)\n",
      "[[0. 1. 0. 0. 0. 0.]] 0\n",
      "(1, 110, 110, 3)\n",
      "[[1. 0. 0. 0. 0. 0.]] 0\n",
      "(1, 110, 110, 3)\n",
      "[[1. 0. 0. 0. 0. 0.]] 0\n",
      "(1, 110, 110, 3)\n",
      "[[0. 1. 0. 0. 0. 0.]] 0\n",
      "(1, 110, 110, 3)\n",
      "[[1. 0. 0. 0. 0. 0.]] 0\n",
      "(1, 110, 110, 3)\n",
      "[[1. 0. 0. 0. 0. 0.]] 0\n",
      "(1, 110, 110, 3)\n",
      "[[0. 1. 0. 0. 0. 0.]] 0\n",
      "(1, 110, 110, 3)\n",
      "[[0. 1. 0. 0. 0. 0.]] 1\n",
      "(1, 110, 110, 3)\n",
      "[[0. 1. 0. 0. 0. 0.]] 1\n",
      "(1, 110, 110, 3)\n",
      "[[0. 1. 0. 0. 0. 0.]] 1\n",
      "(1, 110, 110, 3)\n",
      "[[0. 1. 0. 0. 0. 0.]] 1\n",
      "(1, 110, 110, 3)\n",
      "[[0. 0. 0. 0. 0. 1.]] 1\n",
      "(1, 110, 110, 3)\n",
      "[[0. 1. 0. 0. 0. 0.]] 1\n",
      "(1, 110, 110, 3)\n",
      "[[0. 1. 0. 0. 0. 0.]] 1\n",
      "(1, 110, 110, 3)\n",
      "[[0. 1. 0. 0. 0. 0.]] 1\n",
      "(1, 110, 110, 3)\n",
      "[[0. 1. 0. 0. 0. 0.]] 1\n",
      "(1, 110, 110, 3)\n",
      "[[0. 1. 0. 0. 0. 0.]] 1\n",
      "(1, 110, 110, 3)\n",
      "[[0. 1. 0. 0. 0. 0.]] 1\n",
      "(1, 110, 110, 3)\n",
      "[[0. 1. 0. 0. 0. 0.]] 1\n",
      "(1, 110, 110, 3)\n",
      "[[0. 1. 0. 0. 0. 0.]] 1\n",
      "(1, 110, 110, 3)\n",
      "[[0. 1. 0. 0. 0. 0.]] 1\n",
      "(1, 110, 110, 3)\n",
      "[[0. 1. 0. 0. 0. 0.]] 1\n",
      "(1, 110, 110, 3)\n",
      "[[0. 1. 0. 0. 0. 0.]] 1\n",
      "(1, 110, 110, 3)\n",
      "[[0. 1. 0. 0. 0. 0.]] 1\n",
      "(1, 110, 110, 3)\n",
      "[[0. 1. 0. 0. 0. 0.]] 1\n",
      "(1, 110, 110, 3)\n",
      "[[0. 1. 0. 0. 0. 0.]] 1\n",
      "(1, 110, 110, 3)\n",
      "[[0. 1. 0. 0. 0. 0.]] 1\n",
      "(1, 110, 110, 3)\n",
      "[[0. 1. 0. 0. 0. 0.]] 1\n",
      "(1, 110, 110, 3)\n",
      "[[0. 1. 0. 0. 0. 0.]] 1\n",
      "(1, 110, 110, 3)\n",
      "[[0. 1. 0. 0. 0. 0.]] 1\n",
      "(1, 110, 110, 3)\n",
      "[[0. 1. 0. 0. 0. 0.]] 1\n",
      "(1, 110, 110, 3)\n",
      "[[0. 1. 0. 0. 0. 0.]] 1\n",
      "(1, 110, 110, 3)\n",
      "[[0. 1. 0. 0. 0. 0.]] 1\n",
      "(1, 110, 110, 3)\n",
      "[[0. 1. 0. 0. 0. 0.]] 1\n",
      "(1, 110, 110, 3)\n",
      "[[0. 1. 0. 0. 0. 0.]] 1\n",
      "(1, 110, 110, 3)\n",
      "[[0. 1. 0. 0. 0. 0.]] 1\n",
      "(1, 110, 110, 3)\n",
      "[[0. 1. 0. 0. 0. 0.]] 1\n",
      "(1, 110, 110, 3)\n",
      "[[0. 1. 0. 0. 0. 0.]] 1\n",
      "(1, 110, 110, 3)\n",
      "[[0. 1. 0. 0. 0. 0.]] 1\n",
      "(1, 110, 110, 3)\n",
      "[[0. 1. 0. 0. 0. 0.]] 1\n",
      "(1, 110, 110, 3)\n",
      "[[0. 1. 0. 0. 0. 0.]] 1\n",
      "(1, 110, 110, 3)\n",
      "[[0. 1. 0. 0. 0. 0.]] 1\n",
      "(1, 110, 110, 3)\n",
      "[[0. 1. 0. 0. 0. 0.]] 1\n",
      "(1, 110, 110, 3)\n",
      "[[0. 1. 0. 0. 0. 0.]] 1\n",
      "(1, 110, 110, 3)\n",
      "[[0. 1. 0. 0. 0. 0.]] 1\n",
      "(1, 110, 110, 3)\n",
      "[[0. 1. 0. 0. 0. 0.]] 1\n",
      "(1, 110, 110, 3)\n",
      "[[0. 1. 0. 0. 0. 0.]] 1\n",
      "(1, 110, 110, 3)\n",
      "[[0. 1. 0. 0. 0. 0.]] 1\n",
      "(1, 110, 110, 3)\n",
      "[[0. 1. 0. 0. 0. 0.]] 1\n",
      "(1, 110, 110, 3)\n",
      "[[0. 0. 1. 0. 0. 0.]] 2\n",
      "(1, 110, 110, 3)\n",
      "[[0. 0. 0. 1. 0. 0.]] 2\n",
      "(1, 110, 110, 3)\n",
      "[[0. 0. 1. 0. 0. 0.]] 2\n",
      "(1, 110, 110, 3)\n",
      "[[0. 0. 1. 0. 0. 0.]] 2\n",
      "(1, 110, 110, 3)\n",
      "[[0. 0. 1. 0. 0. 0.]] 2\n",
      "(1, 110, 110, 3)\n",
      "[[0. 0. 1. 0. 0. 0.]] 2\n",
      "(1, 110, 110, 3)\n",
      "[[0. 0. 1. 0. 0. 0.]] 2\n",
      "(1, 110, 110, 3)\n",
      "[[0. 0. 1. 0. 0. 0.]] 2\n",
      "(1, 110, 110, 3)\n",
      "[[0. 0. 1. 0. 0. 0.]] 2\n",
      "(1, 110, 110, 3)\n",
      "[[0. 0. 1. 0. 0. 0.]] 2\n",
      "(1, 110, 110, 3)\n",
      "[[0. 0. 1. 0. 0. 0.]] 2\n",
      "(1, 110, 110, 3)\n",
      "[[0. 0. 1. 0. 0. 0.]] 2\n",
      "(1, 110, 110, 3)\n",
      "[[0. 0. 1. 0. 0. 0.]] 2\n",
      "(1, 110, 110, 3)\n",
      "[[0. 0. 1. 0. 0. 0.]] 2\n",
      "(1, 110, 110, 3)\n",
      "[[0. 0. 1. 0. 0. 0.]] 2\n",
      "(1, 110, 110, 3)\n",
      "[[0. 0. 1. 0. 0. 0.]] 2\n",
      "(1, 110, 110, 3)\n",
      "[[0. 0. 1. 0. 0. 0.]] 2\n",
      "(1, 110, 110, 3)\n",
      "[[0. 0. 1. 0. 0. 0.]] 2\n",
      "(1, 110, 110, 3)\n",
      "[[0. 0. 1. 0. 0. 0.]] 2\n",
      "(1, 110, 110, 3)\n",
      "[[0. 0. 1. 0. 0. 0.]] 2\n",
      "(1, 110, 110, 3)\n",
      "[[0. 0. 1. 0. 0. 0.]] 2\n",
      "(1, 110, 110, 3)\n",
      "[[0. 1. 0. 0. 0. 0.]] 2\n",
      "(1, 110, 110, 3)\n",
      "[[0.0000000e+00 0.0000000e+00 1.0000000e+00 2.5989212e-24 0.0000000e+00\n",
      "  0.0000000e+00]] 2\n",
      "(1, 110, 110, 3)\n",
      "[[0.0000000e+00 0.0000000e+00 1.0000000e+00 0.0000000e+00 0.0000000e+00\n",
      "  7.3825385e-10]] 2\n",
      "(1, 110, 110, 3)\n",
      "[[0. 0. 1. 0. 0. 0.]] 2\n",
      "(1, 110, 110, 3)\n",
      "[[0. 0. 1. 0. 0. 0.]] 2\n",
      "(1, 110, 110, 3)\n",
      "[[0. 0. 1. 0. 0. 0.]] 2\n",
      "(1, 110, 110, 3)\n",
      "[[0. 0. 0. 1. 0. 0.]] 2\n",
      "(1, 110, 110, 3)\n",
      "[[0. 0. 1. 0. 0. 0.]] 2\n",
      "(1, 110, 110, 3)\n",
      "[[0. 0. 1. 0. 0. 0.]] 2\n",
      "(1, 110, 110, 3)\n",
      "[[0. 0. 1. 0. 0. 0.]] 2\n",
      "(1, 110, 110, 3)\n",
      "[[0. 0. 1. 0. 0. 0.]] 2\n",
      "(1, 110, 110, 3)\n",
      "[[0. 0. 1. 0. 0. 0.]] 2\n",
      "(1, 110, 110, 3)\n",
      "[[0. 0. 1. 0. 0. 0.]] 2\n",
      "(1, 110, 110, 3)\n",
      "[[0. 0. 1. 0. 0. 0.]] 2\n",
      "(1, 110, 110, 3)\n",
      "[[0.0000000e+00 0.0000000e+00 4.7271024e-04 9.9952734e-01 0.0000000e+00\n",
      "  0.0000000e+00]] 2\n",
      "(1, 110, 110, 3)\n",
      "[[0. 0. 1. 0. 0. 0.]] 2\n",
      "(1, 110, 110, 3)\n",
      "[[0. 0. 1. 0. 0. 0.]] 2\n",
      "(1, 110, 110, 3)\n",
      "[[0. 0. 1. 0. 0. 0.]] 2\n",
      "(1, 110, 110, 3)\n",
      "[[0. 0. 1. 0. 0. 0.]] 2\n",
      "(1, 110, 110, 3)\n",
      "[[0. 0. 1. 0. 0. 0.]] 2\n",
      "(1, 110, 110, 3)\n",
      "[[0. 0. 1. 0. 0. 0.]] 2\n",
      "(1, 110, 110, 3)\n",
      "[[0.0000000e+00 0.0000000e+00 1.0000000e+00 1.4196852e-19 0.0000000e+00\n",
      "  0.0000000e+00]] 2\n",
      "(1, 110, 110, 3)\n",
      "[[0. 0. 1. 0. 0. 0.]] 2\n",
      "(1, 110, 110, 3)\n",
      "[[0. 0. 1. 0. 0. 0.]] 2\n",
      "(1, 110, 110, 3)\n",
      "[[0. 0. 1. 0. 0. 0.]] 2\n",
      "(1, 110, 110, 3)\n",
      "[[0. 0. 1. 0. 0. 0.]] 2\n",
      "(1, 110, 110, 3)\n",
      "[[0. 0. 1. 0. 0. 0.]] 2\n",
      "(1, 110, 110, 3)\n",
      "[[0. 1. 0. 0. 0. 0.]] 3\n",
      "(1, 110, 110, 3)\n",
      "[[0. 0. 1. 0. 0. 0.]] 3\n",
      "(1, 110, 110, 3)\n",
      "[[0. 0. 0. 1. 0. 0.]] 3\n",
      "(1, 110, 110, 3)\n",
      "[[0. 1. 0. 0. 0. 0.]] 3\n",
      "(1, 110, 110, 3)\n",
      "[[0.0000000e+00 1.0000000e+00 0.0000000e+00 3.5303796e-16 0.0000000e+00\n",
      "  0.0000000e+00]] 3\n",
      "(1, 110, 110, 3)\n",
      "[[0.0000000e+00 0.0000000e+00 1.4787847e-14 1.0000000e+00 0.0000000e+00\n",
      "  2.9333054e-15]] 3\n",
      "(1, 110, 110, 3)\n",
      "[[0. 0. 0. 1. 0. 0.]] 3\n",
      "(1, 110, 110, 3)\n",
      "[[0. 0. 1. 0. 0. 0.]] 3\n",
      "(1, 110, 110, 3)\n",
      "[[0. 0. 1. 0. 0. 0.]] 3\n",
      "(1, 110, 110, 3)\n",
      "[[0. 0. 0. 1. 0. 0.]] 3\n",
      "(1, 110, 110, 3)\n",
      "[[0. 0. 0. 1. 0. 0.]] 3\n",
      "(1, 110, 110, 3)\n",
      "[[0. 0. 1. 0. 0. 0.]] 3\n",
      "(1, 110, 110, 3)\n",
      "[[0. 0. 0. 1. 0. 0.]] 3\n",
      "(1, 110, 110, 3)\n",
      "[[0. 0. 0. 1. 0. 0.]] 3\n",
      "(1, 110, 110, 3)\n",
      "[[0. 0. 0. 1. 0. 0.]] 3\n",
      "(1, 110, 110, 3)\n",
      "[[0. 1. 0. 0. 0. 0.]] 3\n",
      "(1, 110, 110, 3)\n",
      "[[0. 0. 0. 1. 0. 0.]] 3\n",
      "(1, 110, 110, 3)\n",
      "[[0. 0. 0. 1. 0. 0.]] 3\n",
      "(1, 110, 110, 3)\n",
      "[[0. 0. 0. 1. 0. 0.]] 3\n",
      "(1, 110, 110, 3)\n",
      "[[0. 0. 0. 1. 0. 0.]] 3\n",
      "(1, 110, 110, 3)\n",
      "[[0. 0. 0. 1. 0. 0.]] 3\n",
      "(1, 110, 110, 3)\n",
      "[[0.000000e+00 0.000000e+00 1.000000e+00 7.044084e-12 0.000000e+00\n",
      "  0.000000e+00]] 3\n",
      "(1, 110, 110, 3)\n",
      "[[0. 0. 0. 1. 0. 0.]] 3\n",
      "(1, 110, 110, 3)\n",
      "[[0. 0. 1. 0. 0. 0.]] 3\n",
      "(1, 110, 110, 3)\n",
      "[[0. 0. 0. 1. 0. 0.]] 3\n",
      "(1, 110, 110, 3)\n",
      "[[0. 0. 0. 1. 0. 0.]] 3\n",
      "(1, 110, 110, 3)\n",
      "[[0. 1. 0. 0. 0. 0.]] 3\n",
      "(1, 110, 110, 3)\n",
      "[[0.0000000e+00 1.0000000e+00 0.0000000e+00 3.4942924e-19 0.0000000e+00\n",
      "  0.0000000e+00]] 3\n",
      "(1, 110, 110, 3)\n",
      "[[0.000000e+00 0.000000e+00 1.000000e+00 8.728115e-23 0.000000e+00\n",
      "  0.000000e+00]] 3\n",
      "(1, 110, 110, 3)\n",
      "[[0. 0. 1. 0. 0. 0.]] 3\n",
      "(1, 110, 110, 3)\n",
      "[[0. 0. 0. 1. 0. 0.]] 3\n",
      "(1, 110, 110, 3)\n",
      "[[0. 0. 0. 1. 0. 0.]] 3\n",
      "(1, 110, 110, 3)\n",
      "[[0. 0. 1. 0. 0. 0.]] 3\n",
      "(1, 110, 110, 3)\n",
      "[[0. 0. 0. 1. 0. 0.]] 3\n",
      "(1, 110, 110, 3)\n",
      "[[0. 0. 0. 1. 0. 0.]] 3\n",
      "(1, 110, 110, 3)\n",
      "[[0. 0. 1. 0. 0. 0.]] 3\n",
      "(1, 110, 110, 3)\n",
      "[[0. 0. 1. 0. 0. 0.]] 3\n",
      "(1, 110, 110, 3)\n",
      "[[0. 0. 0. 1. 0. 0.]] 3\n",
      "(1, 110, 110, 3)\n",
      "[[0. 0. 0. 1. 0. 0.]] 3\n",
      "(1, 110, 110, 3)\n",
      "[[0. 0. 0. 1. 0. 0.]] 3\n",
      "(1, 110, 110, 3)\n",
      "[[0. 0. 0. 1. 0. 0.]] 3\n",
      "(1, 110, 110, 3)\n",
      "[[0. 0. 0. 1. 0. 0.]] 3\n",
      "(1, 110, 110, 3)\n",
      "[[1. 0. 0. 0. 0. 0.]] 3\n",
      "(1, 110, 110, 3)\n",
      "[[0. 0. 0. 1. 0. 0.]] 3\n",
      "(1, 110, 110, 3)\n",
      "[[0. 0. 1. 0. 0. 0.]] 3\n",
      "(1, 110, 110, 3)\n",
      "[[0. 0. 0. 1. 0. 0.]] 3\n",
      "(1, 110, 110, 3)\n",
      "[[0. 0. 1. 0. 0. 0.]] 3\n",
      "(1, 110, 110, 3)\n",
      "[[0. 0. 1. 0. 0. 0.]] 3\n",
      "(1, 110, 110, 3)\n",
      "[[0. 0. 0. 1. 0. 0.]] 3\n",
      "(1, 110, 110, 3)\n",
      "[[0. 1. 0. 0. 0. 0.]] 3\n",
      "(1, 110, 110, 3)\n"
     ]
    },
    {
     "name": "stdout",
     "output_type": "stream",
     "text": [
      "[[0. 0. 1. 0. 0. 0.]] 3\n",
      "(1, 110, 110, 3)\n",
      "[[0. 0. 1. 0. 0. 0.]] 3\n",
      "(1, 110, 110, 3)\n",
      "[[0. 0. 0. 1. 0. 0.]] 3\n",
      "(1, 110, 110, 3)\n",
      "[[0. 0. 0. 1. 0. 0.]] 3\n",
      "(1, 110, 110, 3)\n",
      "[[0.00000e+00 1.00000e+00 0.00000e+00 5.57278e-18 0.00000e+00 0.00000e+00]] 3\n",
      "(1, 110, 110, 3)\n",
      "[[0. 0. 0. 1. 0. 0.]] 3\n",
      "(1, 110, 110, 3)\n",
      "[[0. 0. 0. 1. 0. 0.]] 3\n",
      "(1, 110, 110, 3)\n",
      "[[0. 0. 0. 1. 0. 0.]] 3\n",
      "(1, 110, 110, 3)\n",
      "[[0. 0. 1. 0. 0. 0.]] 3\n",
      "(1, 110, 110, 3)\n",
      "[[0. 0. 1. 0. 0. 0.]] 3\n",
      "(1, 110, 110, 3)\n",
      "[[0. 0. 0. 1. 0. 0.]] 3\n",
      "(1, 110, 110, 3)\n",
      "[[0. 0. 1. 0. 0. 0.]] 3\n",
      "(1, 110, 110, 3)\n",
      "[[0. 1. 0. 0. 0. 0.]] 3\n",
      "(1, 110, 110, 3)\n",
      "[[0.00000e+00 1.94686e-15 0.00000e+00 1.00000e+00 0.00000e+00 0.00000e+00]] 3\n",
      "(1, 110, 110, 3)\n",
      "[[0. 0. 0. 1. 0. 0.]] 3\n",
      "(1, 110, 110, 3)\n",
      "[[0. 0. 1. 0. 0. 0.]] 3\n",
      "(1, 110, 110, 3)\n",
      "[[0. 1. 0. 0. 0. 0.]] 3\n",
      "(1, 110, 110, 3)\n",
      "[[0. 0. 0. 0. 1. 0.]] 4\n",
      "(1, 110, 110, 3)\n",
      "[[0. 1. 0. 0. 0. 0.]] 4\n",
      "(1, 110, 110, 3)\n",
      "[[0. 1. 0. 0. 0. 0.]] 4\n",
      "(1, 110, 110, 3)\n",
      "[[0. 1. 0. 0. 0. 0.]] 4\n",
      "(1, 110, 110, 3)\n",
      "[[0.0000000e+00 0.0000000e+00 0.0000000e+00 0.0000000e+00 1.0000000e+00\n",
      "  2.9023928e-32]] 4\n",
      "(1, 110, 110, 3)\n",
      "[[0. 1. 0. 0. 0. 0.]] 4\n",
      "(1, 110, 110, 3)\n",
      "[[0. 1. 0. 0. 0. 0.]] 4\n",
      "(1, 110, 110, 3)\n",
      "[[0. 1. 0. 0. 0. 0.]] 4\n",
      "(1, 110, 110, 3)\n",
      "[[0. 1. 0. 0. 0. 0.]] 4\n",
      "(1, 110, 110, 3)\n",
      "[[0. 1. 0. 0. 0. 0.]] 4\n",
      "(1, 110, 110, 3)\n",
      "[[0. 1. 0. 0. 0. 0.]] 4\n",
      "(1, 110, 110, 3)\n",
      "[[0.000000e+00 1.000000e+00 0.000000e+00 4.686168e-18 0.000000e+00\n",
      "  0.000000e+00]] 4\n",
      "(1, 110, 110, 3)\n",
      "[[0. 0. 0. 0. 1. 0.]] 4\n",
      "(1, 110, 110, 3)\n",
      "[[0. 1. 0. 0. 0. 0.]] 4\n",
      "(1, 110, 110, 3)\n",
      "[[0. 1. 0. 0. 0. 0.]] 4\n",
      "(1, 110, 110, 3)\n",
      "[[0. 0. 0. 1. 0. 0.]] 4\n",
      "(1, 110, 110, 3)\n",
      "[[0. 1. 0. 0. 0. 0.]] 4\n",
      "(1, 110, 110, 3)\n",
      "[[0. 1. 0. 0. 0. 0.]] 4\n",
      "(1, 110, 110, 3)\n",
      "[[0. 0. 0. 0. 1. 0.]] 4\n",
      "(1, 110, 110, 3)\n",
      "[[0. 1. 0. 0. 0. 0.]] 4\n",
      "(1, 110, 110, 3)\n",
      "[[0. 1. 0. 0. 0. 0.]] 4\n",
      "(1, 110, 110, 3)\n",
      "[[0. 1. 0. 0. 0. 0.]] 4\n",
      "(1, 110, 110, 3)\n",
      "[[0.0000000e+00 2.2075742e-35 0.0000000e+00 0.0000000e+00 1.0000000e+00\n",
      "  4.8789645e-10]] 4\n",
      "(1, 110, 110, 3)\n",
      "[[0. 1. 0. 0. 0. 0.]] 4\n",
      "(1, 110, 110, 3)\n",
      "[[0. 1. 0. 0. 0. 0.]] 4\n",
      "(1, 110, 110, 3)\n",
      "[[0. 0. 0. 0. 0. 1.]] 4\n",
      "(1, 110, 110, 3)\n",
      "[[0. 1. 0. 0. 0. 0.]] 4\n",
      "(1, 110, 110, 3)\n",
      "[[0. 1. 0. 0. 0. 0.]] 4\n",
      "(1, 110, 110, 3)\n",
      "[[0. 1. 0. 0. 0. 0.]] 4\n",
      "(1, 110, 110, 3)\n",
      "[[0. 1. 0. 0. 0. 0.]] 4\n",
      "(1, 110, 110, 3)\n",
      "[[0.000000e+00 0.000000e+00 0.000000e+00 1.000000e+00 0.000000e+00\n",
      "  2.483828e-31]] 4\n",
      "(1, 110, 110, 3)\n",
      "[[0. 0. 0. 0. 1. 0.]] 4\n",
      "(1, 110, 110, 3)\n",
      "[[0. 1. 0. 0. 0. 0.]] 4\n",
      "(1, 110, 110, 3)\n",
      "[[0. 0. 0. 0. 1. 0.]] 4\n",
      "(1, 110, 110, 3)\n",
      "[[0. 1. 0. 0. 0. 0.]] 4\n",
      "(1, 110, 110, 3)\n",
      "[[0.0000000e+00 1.0000000e+00 0.0000000e+00 0.0000000e+00 0.0000000e+00\n",
      "  1.1693858e-23]] 4\n",
      "(1, 110, 110, 3)\n",
      "[[0. 0. 0. 0. 1. 0.]] 4\n",
      "(1, 110, 110, 3)\n",
      "[[0. 1. 0. 0. 0. 0.]] 4\n",
      "(1, 110, 110, 3)\n",
      "[[0. 1. 0. 0. 0. 0.]] 4\n",
      "(1, 110, 110, 3)\n",
      "[[0.0000000e+00 1.0000000e+00 0.0000000e+00 0.0000000e+00 0.0000000e+00\n",
      "  5.0333504e-36]] 4\n",
      "(1, 110, 110, 3)\n",
      "[[0. 1. 0. 0. 0. 0.]] 4\n",
      "(1, 110, 110, 3)\n",
      "[[0. 1. 0. 0. 0. 0.]] 4\n",
      "(1, 110, 110, 3)\n",
      "[[0. 1. 0. 0. 0. 0.]] 4\n",
      "(1, 110, 110, 3)\n",
      "[[0. 1. 0. 0. 0. 0.]] 4\n",
      "(1, 110, 110, 3)\n",
      "[[0. 0. 0. 1. 0. 0.]] 4\n",
      "(1, 110, 110, 3)\n",
      "[[0. 1. 0. 0. 0. 0.]] 4\n",
      "(1, 110, 110, 3)\n",
      "[[0. 1. 0. 0. 0. 0.]] 4\n",
      "(1, 110, 110, 3)\n",
      "[[0. 1. 0. 0. 0. 0.]] 4\n",
      "(1, 110, 110, 3)\n",
      "[[0. 1. 0. 0. 0. 0.]] 4\n",
      "(1, 110, 110, 3)\n",
      "[[0. 1. 0. 0. 0. 0.]] 4\n",
      "(1, 110, 110, 3)\n",
      "[[0. 1. 0. 0. 0. 0.]] 4\n",
      "(1, 110, 110, 3)\n",
      "[[0.0000000e+00 1.0000000e+00 0.0000000e+00 0.0000000e+00 7.8246835e-19\n",
      "  0.0000000e+00]] 4\n",
      "(1, 110, 110, 3)\n",
      "[[0. 1. 0. 0. 0. 0.]] 4\n",
      "(1, 110, 110, 3)\n",
      "[[0. 1. 0. 0. 0. 0.]] 4\n",
      "(1, 110, 110, 3)\n",
      "[[0. 1. 0. 0. 0. 0.]] 4\n",
      "(1, 110, 110, 3)\n",
      "[[0. 0. 0. 0. 0. 1.]] 5\n",
      "(1, 110, 110, 3)\n",
      "[[0. 0. 0. 0. 0. 1.]] 5\n",
      "(1, 110, 110, 3)\n",
      "[[0. 1. 0. 0. 0. 0.]] 5\n",
      "(1, 110, 110, 3)\n",
      "[[0. 0. 1. 0. 0. 0.]] 5\n",
      "(1, 110, 110, 3)\n",
      "[[0. 0. 0. 0. 0. 1.]] 5\n",
      "(1, 110, 110, 3)\n",
      "[[0. 0. 0. 0. 0. 1.]] 5\n",
      "(1, 110, 110, 3)\n",
      "[[0. 0. 1. 0. 0. 0.]] 5\n",
      "(1, 110, 110, 3)\n",
      "[[0. 1. 0. 0. 0. 0.]] 5\n",
      "(1, 110, 110, 3)\n",
      "[[0. 0. 1. 0. 0. 0.]] 5\n",
      "(1, 110, 110, 3)\n",
      "[[0. 0. 0. 0. 0. 1.]] 5\n",
      "(1, 110, 110, 3)\n",
      "[[0.000000e+00 0.000000e+00 0.000000e+00 1.000000e+00 0.000000e+00\n",
      "  3.995508e-21]] 5\n",
      "(1, 110, 110, 3)\n",
      "[[0. 1. 0. 0. 0. 0.]] 5\n",
      "(1, 110, 110, 3)\n",
      "[[0. 0. 0. 0. 0. 1.]] 5\n",
      "(1, 110, 110, 3)\n",
      "[[0. 1. 0. 0. 0. 0.]] 5\n",
      "(1, 110, 110, 3)\n",
      "[[0.0000000e+00 0.0000000e+00 0.0000000e+00 3.6092505e-16 0.0000000e+00\n",
      "  1.0000000e+00]] 5\n",
      "(1, 110, 110, 3)\n",
      "[[0. 1. 0. 0. 0. 0.]] 5\n",
      "(1, 110, 110, 3)\n",
      "[[0. 0. 1. 0. 0. 0.]] 5\n",
      "(1, 110, 110, 3)\n",
      "[[0.0000000e+00 1.0000000e+00 0.0000000e+00 0.0000000e+00 0.0000000e+00\n",
      "  1.3739544e-20]] 5\n",
      "(1, 110, 110, 3)\n",
      "[[0. 1. 0. 0. 0. 0.]] 5\n",
      "(1, 110, 110, 3)\n",
      "[[0. 1. 0. 0. 0. 0.]] 5\n",
      "(1, 110, 110, 3)\n",
      "[[0. 1. 0. 0. 0. 0.]] 5\n",
      "(1, 110, 110, 3)\n",
      "[[0. 1. 0. 0. 0. 0.]] 5\n",
      "(1, 110, 110, 3)\n",
      "[[0. 1. 0. 0. 0. 0.]] 5\n",
      "(1, 110, 110, 3)\n",
      "[[0. 1. 0. 0. 0. 0.]] 5\n",
      "(1, 110, 110, 3)\n",
      "[[0. 0. 1. 0. 0. 0.]] 5\n",
      "(1, 110, 110, 3)\n",
      "[[0. 0. 0. 1. 0. 0.]] 5\n",
      "(1, 110, 110, 3)\n",
      "[[0. 0. 0. 0. 0. 1.]] 5\n",
      "(1, 110, 110, 3)\n",
      "[[0. 0. 0. 0. 0. 1.]] 5\n",
      "(1, 110, 110, 3)\n",
      "[[0. 0. 0. 0. 0. 1.]] 5\n",
      "(1, 110, 110, 3)\n",
      "[[0.0000000e+00 0.0000000e+00 2.5427642e-35 1.0000000e+00 0.0000000e+00\n",
      "  0.0000000e+00]] 5\n",
      "(1, 110, 110, 3)\n",
      "[[0. 0. 0. 0. 0. 1.]] 5\n",
      "(1, 110, 110, 3)\n",
      "[[0. 0. 0. 0. 0. 1.]] 5\n",
      "(1, 110, 110, 3)\n",
      "[[0. 1. 0. 0. 0. 0.]] 5\n",
      "(1, 110, 110, 3)\n",
      "[[0. 0. 0. 0. 0. 1.]] 5\n",
      "(1, 110, 110, 3)\n",
      "[[0. 0. 1. 0. 0. 0.]] 5\n",
      "(1, 110, 110, 3)\n",
      "[[0. 0. 1. 0. 0. 0.]] 5\n",
      "(1, 110, 110, 3)\n",
      "[[0.0000000e+00 1.0000000e+00 0.0000000e+00 0.0000000e+00 0.0000000e+00\n",
      "  6.5757326e-35]] 5\n",
      "(1, 110, 110, 3)\n",
      "[[0.0000000e+00 0.0000000e+00 9.9972469e-01 2.7528778e-04 0.0000000e+00\n",
      "  1.0800567e-24]] 5\n",
      "(1, 110, 110, 3)\n",
      "[[0. 0. 1. 0. 0. 0.]] 5\n",
      "(1, 110, 110, 3)\n",
      "[[0. 0. 0. 0. 0. 1.]] 5\n",
      "(1, 110, 110, 3)\n",
      "[[0. 0. 1. 0. 0. 0.]] 5\n",
      "(1, 110, 110, 3)\n",
      "[[0. 0. 1. 0. 0. 0.]] 5\n",
      "(1, 110, 110, 3)\n",
      "[[0. 0. 0. 1. 0. 0.]] 5\n",
      "(1, 110, 110, 3)\n",
      "[[0. 0. 0. 1. 0. 0.]] 5\n",
      "(1, 110, 110, 3)\n",
      "[[0. 0. 0. 1. 0. 0.]] 5\n"
     ]
    }
   ],
   "source": [
    "# id_labels={0: 'freshapples',\n",
    "#  1: 'freshbanana',\n",
    "#  2: 'freshoranges',\n",
    "#  3: 'rottenapples',\n",
    "#  4: 'rottenbanana',\n",
    "#  5: 'rottenoranges'}\n",
    "# accuracy={}\n",
    "# infi,infi_set=0,0\n",
    "# for k,v in id_labels.items():\n",
    "#     total_set,count=0,0\n",
    "#     for i in glob.glob(\"/Users/sriramreddy/Downloads/523/ex1/test/\"+v+\"/*png\"):\n",
    "#         test_image = image.load_img(i, target_size = (110, 110))\n",
    "#         test_image = image.img_to_array(test_image)\n",
    "#         test_image = np.expand_dims(test_image, axis = 0)\n",
    "#         print(np.shape(test_image))\n",
    "#         result = model_cnn.predict(test_image)\n",
    "#         print(result,k)\n",
    "# #         total_set+=1\n",
    "# #         infi_set+=1\n",
    "# #         if result[0][k] >= 0.5:\n",
    "# #             count+=1\n",
    "# #             infi+=1\n",
    "# #     accuracy[k]=count/total_set\n",
    "# #     print(v,accuracy[k])\n",
    "# # print(\"Accuracy for all items\", infi/infi_set)"
   ]
  },
  {
   "cell_type": "code",
   "execution_count": 62,
   "metadata": {},
   "outputs": [
    {
     "ename": "TypeError",
     "evalue": "write() argument must be str, not numpy.ndarray",
     "output_type": "error",
     "traceback": [
      "\u001b[0;31m---------------------------------------------------------------------------\u001b[0m",
      "\u001b[0;31mTypeError\u001b[0m                                 Traceback (most recent call last)",
      "\u001b[0;32m<ipython-input-62-3b54079e35c8>\u001b[0m in \u001b[0;36m<module>\u001b[0;34m()\u001b[0m\n\u001b[1;32m      1\u001b[0m \u001b[0msuggest\u001b[0m\u001b[0;34m=\u001b[0m\u001b[0mmodel_cnn\u001b[0m\u001b[0;34m.\u001b[0m\u001b[0mpredict\u001b[0m\u001b[0;34m(\u001b[0m\u001b[0mX_test\u001b[0m\u001b[0;34m)\u001b[0m\u001b[0;34m\u001b[0m\u001b[0m\n\u001b[1;32m      2\u001b[0m \u001b[0mfile\u001b[0m \u001b[0;34m=\u001b[0m \u001b[0mopen\u001b[0m\u001b[0;34m(\u001b[0m\u001b[0;34m'test'\u001b[0m\u001b[0;34m,\u001b[0m\u001b[0;34m'w'\u001b[0m\u001b[0;34m)\u001b[0m\u001b[0;34m\u001b[0m\u001b[0m\n\u001b[0;32m----> 3\u001b[0;31m \u001b[0mfile\u001b[0m\u001b[0;34m.\u001b[0m\u001b[0mwritelines\u001b[0m\u001b[0;34m(\u001b[0m\u001b[0msuggest\u001b[0m\u001b[0;34m)\u001b[0m\u001b[0;34m\u001b[0m\u001b[0m\n\u001b[0m\u001b[1;32m      4\u001b[0m \u001b[0mfile\u001b[0m\u001b[0;34m.\u001b[0m\u001b[0mwrite\u001b[0m\u001b[0;34m(\u001b[0m\u001b[0;34m\"This is the begin\"\u001b[0m\u001b[0;34m)\u001b[0m\u001b[0;34m\u001b[0m\u001b[0m\n\u001b[1;32m      5\u001b[0m \u001b[0mfile\u001b[0m\u001b[0;34m.\u001b[0m\u001b[0mwrite\u001b[0m\u001b[0;34m(\u001b[0m\u001b[0mY_test\u001b[0m\u001b[0;34m)\u001b[0m\u001b[0;34m\u001b[0m\u001b[0m\n",
      "\u001b[0;31mTypeError\u001b[0m: write() argument must be str, not numpy.ndarray"
     ]
    }
   ],
   "source": [
    "suggest=model_cnn.predict(X_test)\n",
    "file = open('test','w') \n",
    "file.writelines(suggest)\n",
    "file.write(\"This is the begin\")\n",
    "file.write(Y_test)\n",
    "file.close()"
   ]
  },
  {
   "cell_type": "code",
   "execution_count": null,
   "metadata": {
    "collapsed": true
   },
   "outputs": [],
   "source": [
    "with open(“hello.txt”, “w”) as f:\n",
    "    f.write(“Hello World”)"
   ]
  }
 ],
 "metadata": {
  "kernelspec": {
   "display_name": "Python 3",
   "language": "python",
   "name": "python3"
  },
  "language_info": {
   "codemirror_mode": {
    "name": "ipython",
    "version": 3
   },
   "file_extension": ".py",
   "mimetype": "text/x-python",
   "name": "python",
   "nbconvert_exporter": "python",
   "pygments_lexer": "ipython3",
   "version": "3.6.3"
  }
 },
 "nbformat": 4,
 "nbformat_minor": 1
}
